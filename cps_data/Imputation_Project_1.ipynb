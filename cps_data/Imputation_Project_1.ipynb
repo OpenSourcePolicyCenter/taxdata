{
 "cells": [
  {
   "cell_type": "markdown",
   "metadata": {},
   "source": [
    "# Pruning puf2011 for regression"
   ]
  },
  {
   "cell_type": "code",
   "execution_count": 1,
   "metadata": {},
   "outputs": [
    {
     "name": "stderr",
     "output_type": "stream",
     "text": [
      "/anaconda3/lib/python3.6/site-packages/statsmodels/compat/pandas.py:56: FutureWarning: The pandas.core.datetools module is deprecated and will be removed in a future version. Please use the pandas.tseries module instead.\n",
      "  from pandas.core import datetools\n"
     ]
    }
   ],
   "source": [
    "import pandas as pd\n",
    "import numpy as np\n",
    "import statsmodels.api as sm\n",
    "import json as js\n",
    "import re\n",
    "import matplotlib.pyplot as plt\n",
    "import matplotlib as mpl\n",
    "import seaborn as sns"
   ]
  },
  {
   "cell_type": "code",
   "execution_count": 2,
   "metadata": {},
   "outputs": [
    {
     "data": {
      "text/plain": [
       "{'DSI': '1 if claimed as dependent on another return; otherwise 0',\n",
       " 'EIC': 'number of EIC qualifying children (range: 0 to 3)',\n",
       " 'FLPDYR': 'Calendar year for which taxes are calculated',\n",
       " 'MARS': 'Filing (marital) status: line number of the checked box [1=single, 2=joint, 3=separate, 4=household-head, 5=widow(er)]',\n",
       " 'RECID': 'Unique numeric identifier for filing unit; appears as RECID variable in tc CLI minimal output',\n",
       " 'XTOT': 'Total number of exemptions for filing unit',\n",
       " 'e00200': 'Wages, salaries, and tips for filing unit',\n",
       " 'e00300': 'Taxable interest income',\n",
       " 'e00400': 'Tax-exempt interest income',\n",
       " 'e00600': 'Ordinary dividends included in AGI',\n",
       " 'e00650': 'Qualified dividends included in ordinary dividends',\n",
       " 'e00800': 'Alimony received',\n",
       " 'e00900': 'Sch C business net profit/loss for filing unit',\n",
       " 'e01100': 'Capital gain distributions not reported on Sch D',\n",
       " 'e01400': 'Taxable IRA distributions',\n",
       " 'e01500': 'Total pensions and annuities',\n",
       " 'e01700': 'Taxable pensions and annuities',\n",
       " 'e02100': 'Farm net income/loss for filing unit from Sch F',\n",
       " 'e02300': 'Unemployment insurance benefits',\n",
       " 'e02400': 'Total social security (OASDI) benefits',\n",
       " 'e03150': 'Total deductible IRA contributions',\n",
       " 'e03210': 'Student loan interest',\n",
       " 'e03240': 'Domestic production activities from Form 8903',\n",
       " 'e03270': 'Self-employed health insurance deduction',\n",
       " 'e03300': 'Contributions to SEP, SIMPLE and qualified plans',\n",
       " 'e17500': 'Sch A: Medical and dental expenses',\n",
       " 'e18400': 'Sch A: State and local income/sales taxes',\n",
       " 'e18500': 'Sch A: Real-estate taxes paid',\n",
       " 'e19200': 'Sch A: Interest paid',\n",
       " 'e19800': 'Sch A: Gifts to charity: cash/check contributions',\n",
       " 'e20100': 'Sch A: Gifts to charity: other than cash/check contributions',\n",
       " 'e20400': 'Sch A: Miscellaneous deductions subject to 2% AGI limitation',\n",
       " 'e32800': 'Child/dependent-care expenses for qualifying persons from Form 2441',\n",
       " 'f2441': 'number of child/dependent-care qualifying persons',\n",
       " 'n24': 'Number of children who are Child-Tax-Credit eligible, one condition for which is being under age 17',\n",
       " 's006': 'Filing unit sampling weight; appears as WEIGHT variable in tc CLI minimal output'}"
      ]
     },
     "execution_count": 2,
     "metadata": {},
     "output_type": "execute_result"
    }
   ],
   "source": [
    "#Loads variable meta-data from https://github.com/andersonfrailey/taxdata/blob/f17d6053d09536e7c2e198a6640c2bd0843deeb0/tests/records_metadata.json\n",
    "true = 'true'\n",
    "meta0 = open('records_metadata.json')\n",
    "meta = js.load(meta0)\n",
    "pufcps = []\n",
    "\n",
    "#Creates list containing those variables available in both cps and puf by including those variables who have two elements in their 'availability' section in the JSON metadata\n",
    "for i in meta:\n",
    "    if len(meta[i]['availability'].split(',')) == 2:\n",
    "        pufcps.append(i)\n",
    "\n",
    "#Many variables shared between puf/cps are not in puf2011 and cannot be used in puf2011 -> cps imputation, these unshared variables are listed so they may be removed\n",
    "notpuf2011 = ['agi_bin','age_head','age_spouse','e00200p','e00200s', 'e00900p','e00900s','e02100p','e02100s','elderly_dependent','filer','fips', 'nu05','nu13','nu18','n1820','n21']\n",
    "\n",
    "#Creates list of variables in both puf2011 and cps\n",
    "puf2011cps = [x for x in pufcps if x not in notpuf2011]\n",
    "\n",
    "#Creates dictionary containing meta-data on puf2011cps variables, pulled from JSON meta-data\n",
    "meta_puf2011cps = {}\n",
    "for i in meta:\n",
    "    if i in puf2011cps:\n",
    "        meta_puf2011cps[i] = meta[i]['desc'] \n",
    "\n",
    "#Capitalizes variables to align with puf2011's formatting\n",
    "puf2011cps = [x.upper() for x in puf2011cps]\n",
    "\n",
    "#Adds to puf2011 those variables which we are trying to impute to cps. By definition they are not in cps, but, we intend to keep them in puf2011 so we can model them.\n",
    "# Also adds AGIR1 for validation purposes\n",
    "puf2011cps.extend(['E02000','E26270','P22250','P23250', 'AGIR1'])\n",
    "\n",
    "meta_puf2011cps"
   ]
  },
  {
   "cell_type": "code",
   "execution_count": 3,
   "metadata": {},
   "outputs": [],
   "source": [
    "puf2011 = pd.read_csv('puf2011.csv')\n",
    "\n",
    "#Drops colums that are not in puf2011cps\n",
    "for i in puf2011.columns:\n",
    "    if i not in puf2011cps:\n",
    "        puf2011.drop(i, axis=1, inplace=True)\n",
    "\n",
    "#Adds constant, removes aggregate rows\n",
    "puf2011['constant'] = np.ones(len(puf2011))\n",
    "puf2011 = puf2011[(puf2011.RECID != 999996) & \n",
    "                  (puf2011.RECID != 999997) & \n",
    "                  (puf2011.RECID != 999998) &\n",
    "                  (puf2011.RECID != 999999)]"
   ]
  },
  {
   "cell_type": "code",
   "execution_count": 4,
   "metadata": {},
   "outputs": [],
   "source": [
    "#Create dummy variable columns from MARS\n",
    "puf2011 = pd.concat([puf2011, pd.get_dummies(puf2011['MARS'])], axis=1)"
   ]
  },
  {
   "cell_type": "code",
   "execution_count": 5,
   "metadata": {},
   "outputs": [],
   "source": [
    "#Rename dummy columns\n",
    "puf2011.rename(columns = {1:'MARS1', 2:'MARS2', 3:'MARS3', 4:'MARS4'}, inplace=True)"
   ]
  },
  {
   "cell_type": "code",
   "execution_count": 6,
   "metadata": {},
   "outputs": [],
   "source": [
    "#Creates sub-dataframes where variables of interest are non-zero\n",
    "pufE02 = puf2011[(puf2011['E02000']!=0)]\n",
    "pufE26 = puf2011[(puf2011['E26270']!=0)]\n",
    "pufP22 = puf2011[(puf2011['P22250']!=0)]\n",
    "pufP23 = puf2011[(puf2011['P23250']!=0)]"
   ]
  },
  {
   "cell_type": "markdown",
   "metadata": {},
   "source": [
    "# Models & parameter extraction"
   ]
  },
  {
   "cell_type": "code",
   "execution_count": 7,
   "metadata": {},
   "outputs": [],
   "source": [
    "E02000_model = sm.OLS(pufE02['E02000'], \n",
    "                      pufE02[['E00200','E00300','E18400','E18500','E00600',\n",
    "                              'E03240','E03300','E20400','E19800','E20100',\n",
    "                              'MARS1', 'MARS2', 'MARS3', 'MARS4','constant']].dropna()).fit()\n",
    "#E02000_model.summary()"
   ]
  },
  {
   "cell_type": "code",
   "execution_count": 8,
   "metadata": {},
   "outputs": [],
   "source": [
    "E26270_model = sm.OLS(pufE26['E26270'], \n",
    "                      pufE26[['E00200','E00300','E18400','E18500','E00600',\n",
    "                              'E03240','E03300','E20400','E19800','E20100',\n",
    "                              'MARS1', 'MARS2', 'MARS3', 'MARS4','constant']].dropna()).fit()\n",
    "#E26270_model.summary()"
   ]
  },
  {
   "cell_type": "code",
   "execution_count": 9,
   "metadata": {},
   "outputs": [],
   "source": [
    "P22250_model = sm.OLS(pufP22['P22250'], \n",
    "                      pufP22[['E00200','E00300','E18400','E18500','E00600',\n",
    "                              'E03240','E03300','E20400','E19800','E20100',\n",
    "                              'MARS1', 'MARS2', 'MARS3', 'MARS4','constant']].dropna()).fit()\n",
    "#P22250_model.summary()"
   ]
  },
  {
   "cell_type": "code",
   "execution_count": 10,
   "metadata": {},
   "outputs": [],
   "source": [
    "P23250_model = sm.OLS(pufP23['P23250'], \n",
    "                      pufP23[['E00200','E00300','E18400','E18500','E00600',\n",
    "                              'E03240','E03300','E20400','E19800','E20100',\n",
    "                              'MARS1', 'MARS2', 'MARS3', 'MARS4','constant']].dropna()).fit()\n",
    "#P23250_model.summary()"
   ]
  },
  {
   "cell_type": "code",
   "execution_count": 11,
   "metadata": {},
   "outputs": [
    {
     "data": {
      "text/html": [
       "<div>\n",
       "<style scoped>\n",
       "    .dataframe tbody tr th:only-of-type {\n",
       "        vertical-align: middle;\n",
       "    }\n",
       "\n",
       "    .dataframe tbody tr th {\n",
       "        vertical-align: top;\n",
       "    }\n",
       "\n",
       "    .dataframe thead th {\n",
       "        text-align: right;\n",
       "    }\n",
       "</style>\n",
       "<table border=\"1\" class=\"dataframe\">\n",
       "  <thead>\n",
       "    <tr style=\"text-align: right;\">\n",
       "      <th></th>\n",
       "      <th>e02000_model</th>\n",
       "      <th>e26270_model</th>\n",
       "      <th>p22250_model</th>\n",
       "      <th>p23250_model</th>\n",
       "    </tr>\n",
       "  </thead>\n",
       "  <tbody>\n",
       "    <tr>\n",
       "      <th>e00200</th>\n",
       "      <td>-0.151295</td>\n",
       "      <td>-0.143629</td>\n",
       "      <td>0.011823</td>\n",
       "      <td>-0.122266</td>\n",
       "    </tr>\n",
       "    <tr>\n",
       "      <th>e00300</th>\n",
       "      <td>-0.668974</td>\n",
       "      <td>-0.675833</td>\n",
       "      <td>0.103493</td>\n",
       "      <td>0.426146</td>\n",
       "    </tr>\n",
       "    <tr>\n",
       "      <th>e18400</th>\n",
       "      <td>1.786382</td>\n",
       "      <td>1.729942</td>\n",
       "      <td>-0.008635</td>\n",
       "      <td>1.442818</td>\n",
       "    </tr>\n",
       "    <tr>\n",
       "      <th>e18500</th>\n",
       "      <td>6.382758</td>\n",
       "      <td>5.530040</td>\n",
       "      <td>-0.381311</td>\n",
       "      <td>5.748795</td>\n",
       "    </tr>\n",
       "    <tr>\n",
       "      <th>e00600</th>\n",
       "      <td>-0.195745</td>\n",
       "      <td>-0.200233</td>\n",
       "      <td>0.003242</td>\n",
       "      <td>0.210423</td>\n",
       "    </tr>\n",
       "    <tr>\n",
       "      <th>e03240</th>\n",
       "      <td>9.105109</td>\n",
       "      <td>8.271007</td>\n",
       "      <td>-0.078776</td>\n",
       "      <td>-0.923082</td>\n",
       "    </tr>\n",
       "    <tr>\n",
       "      <th>e03300</th>\n",
       "      <td>5.759980</td>\n",
       "      <td>6.186928</td>\n",
       "      <td>0.246197</td>\n",
       "      <td>-2.973196</td>\n",
       "    </tr>\n",
       "    <tr>\n",
       "      <th>e20400</th>\n",
       "      <td>-1.072585</td>\n",
       "      <td>-0.974689</td>\n",
       "      <td>0.148788</td>\n",
       "      <td>2.995975</td>\n",
       "    </tr>\n",
       "    <tr>\n",
       "      <th>e19800</th>\n",
       "      <td>0.978106</td>\n",
       "      <td>0.869899</td>\n",
       "      <td>0.029935</td>\n",
       "      <td>0.364107</td>\n",
       "    </tr>\n",
       "    <tr>\n",
       "      <th>e20100</th>\n",
       "      <td>0.396913</td>\n",
       "      <td>0.360117</td>\n",
       "      <td>-0.048357</td>\n",
       "      <td>0.325359</td>\n",
       "    </tr>\n",
       "    <tr>\n",
       "      <th>mars1</th>\n",
       "      <td>-5382.714217</td>\n",
       "      <td>-19634.985589</td>\n",
       "      <td>-17219.392742</td>\n",
       "      <td>-11600.855890</td>\n",
       "    </tr>\n",
       "    <tr>\n",
       "      <th>mars2</th>\n",
       "      <td>3060.057601</td>\n",
       "      <td>11540.344324</td>\n",
       "      <td>5403.152102</td>\n",
       "      <td>40583.999353</td>\n",
       "    </tr>\n",
       "    <tr>\n",
       "      <th>mars3</th>\n",
       "      <td>89975.036472</td>\n",
       "      <td>54869.825070</td>\n",
       "      <td>-14331.971817</td>\n",
       "      <td>55707.606028</td>\n",
       "    </tr>\n",
       "    <tr>\n",
       "      <th>mars4</th>\n",
       "      <td>4707.535496</td>\n",
       "      <td>50561.532060</td>\n",
       "      <td>-1258.746869</td>\n",
       "      <td>27209.888944</td>\n",
       "    </tr>\n",
       "    <tr>\n",
       "      <th>constant</th>\n",
       "      <td>92359.915352</td>\n",
       "      <td>97336.715864</td>\n",
       "      <td>-27406.959326</td>\n",
       "      <td>111900.638436</td>\n",
       "    </tr>\n",
       "  </tbody>\n",
       "</table>\n",
       "</div>"
      ],
      "text/plain": [
       "          e02000_model  e26270_model  p22250_model   p23250_model\n",
       "e00200       -0.151295     -0.143629      0.011823      -0.122266\n",
       "e00300       -0.668974     -0.675833      0.103493       0.426146\n",
       "e18400        1.786382      1.729942     -0.008635       1.442818\n",
       "e18500        6.382758      5.530040     -0.381311       5.748795\n",
       "e00600       -0.195745     -0.200233      0.003242       0.210423\n",
       "e03240        9.105109      8.271007     -0.078776      -0.923082\n",
       "e03300        5.759980      6.186928      0.246197      -2.973196\n",
       "e20400       -1.072585     -0.974689      0.148788       2.995975\n",
       "e19800        0.978106      0.869899      0.029935       0.364107\n",
       "e20100        0.396913      0.360117     -0.048357       0.325359\n",
       "mars1     -5382.714217 -19634.985589 -17219.392742  -11600.855890\n",
       "mars2      3060.057601  11540.344324   5403.152102   40583.999353\n",
       "mars3     89975.036472  54869.825070 -14331.971817   55707.606028\n",
       "mars4      4707.535496  50561.532060  -1258.746869   27209.888944\n",
       "constant  92359.915352  97336.715864 -27406.959326  111900.638436"
      ]
     },
     "execution_count": 11,
     "metadata": {},
     "output_type": "execute_result"
    }
   ],
   "source": [
    "#Extract all parameters\n",
    "betas = pd.DataFrame({'E02000_model':E02000_model.params,\n",
    "                      'E26270_model':E26270_model.params,\n",
    "                      'P22250_model':P22250_model.params,\n",
    "                      'P23250_model':P23250_model.params}).fillna(0.)\n",
    "betas.to_csv('Data_betas.csv')\n",
    "\n",
    "#Revert variable names to lowercase to impute to cps data\n",
    "betas.index = betas.index.str.lower()\n",
    "betas.columns = betas.columns.str.lower()\n",
    "betas"
   ]
  },
  {
   "cell_type": "markdown",
   "metadata": {},
   "source": [
    "# Imputation"
   ]
  },
  {
   "cell_type": "code",
   "execution_count": 12,
   "metadata": {},
   "outputs": [],
   "source": [
    "#Create MARS dummy columns in cps, renames them to match betas, add mars3 column of 0's (it turns out that in cps,  MARS != 3)\n",
    "cps = pd.read_csv('cps.csv')\n",
    "cps = pd.concat([cps, pd.get_dummies(cps['MARS'])], axis = 1)\n",
    "cps.rename(columns = {1: 'mars1', 2: 'mars2', 4: 'mars4'}, inplace=True)\n",
    "cps['mars3'] = 0\n"
   ]
  },
  {
   "cell_type": "code",
   "execution_count": 32,
   "metadata": {},
   "outputs": [],
   "source": [
    "#Creates list of dependent variables, fetches cps data, adds constant column for imputation\n",
    "dependents = ['e02000','e26270','p22250','p23250']\n",
    "cps['constant'] = 1\n",
    "\n",
    "#Creates new column for each dependent variable, populates each cell with dot of the row-vector containing \n",
    "# the independent variables' values for the given row and column vector comprising the regression coefficients corresponding\n",
    "# to those dependent variables. Coefficients for each model are in the same order in their column as the columns corresponding \n",
    "# to their independent variables' values.\n",
    "\n",
    "for i in dependents:\n",
    "    #Creates row vector comprising our coefficients for the given model\n",
    "    colv = np.array(betas[i+'_model'])\n",
    "    #Dot product of independent variables' values & coefficient column vector.\n",
    "    cps[i] = np.dot(np.array(cps[['e00200', 'e00300', 'e18400', 'e18500', 'e00600', \n",
    "                                  'e03240', 'e03300', 'e20400', 'e19800', 'e20100',\n",
    "                                  'mars1', 'mars2', 'mars3', 'mars4','constant']]), colv)"
   ]
  },
  {
   "cell_type": "markdown",
   "metadata": {},
   "source": [
    "# Imputation testing"
   ]
  },
  {
   "cell_type": "code",
   "execution_count": 33,
   "metadata": {},
   "outputs": [
    {
     "data": {
      "image/png": "[encoded data removed]",
      "text/plain": [
       "<matplotlib.figure.Figure at 0x1c2f47ba58>"
      ]
     },
     "metadata": {},
     "output_type": "display_data"
    }
   ],
   "source": [
    "#E00200\n",
    "\n",
    "plt.figure(num = 'e00200 dist', figsize = (9, 8))\n",
    "\n",
    "plt.subplot(211)\n",
    "plt.title('CPS Imputation', size = 14)\n",
    "x0 = cps['agi_bin']\n",
    "y0 = cps['e00200']\n",
    "plt.xticks(range(19))\n",
    "plt.ylabel('e00200', color = '#0872AE')\n",
    "plt.ticklabel_format(style='sci', axis='y', scilimits=(0,0))\n",
    "ax = plt.gca()\n",
    "ax.set_ylim([0, 1*10**7])\n",
    "plt.scatter(x0, y0, s = 10)\n",
    "\n",
    "\n",
    "plt.subplot(212)\n",
    "x1 = puf2011['AGIR1']\n",
    "y1 = puf2011['E00200']\n",
    "plt.xlabel('AGI Bins',fontsize = 12, color = '#0872AE', position = (0.505,0))\n",
    "plt.ylabel('E00200', color = '#0872AE')\n",
    "plt.title('PUF2011', size = 14)\n",
    "plt.scatter(x1, y1, label = 'PUF2011', s = 10)\n",
    "\n",
    "plt.show()\n",
    "\n"
   ]
  },
  {
   "cell_type": "code",
   "execution_count": 34,
   "metadata": {},
   "outputs": [
    {
     "data": {
      "image/png": "[encoded data removed]",
      "text/plain": [
       "<matplotlib.figure.Figure at 0x1c30127cc0>"
      ]
     },
     "metadata": {},
     "output_type": "display_data"
    },
    {
     "name": "stdout",
     "output_type": "stream",
     "text": [
      "The CPS Imputation graph does not make sense to me because the predited e26270 is NOT mostly negative, in fact the mean is 117705.04048689055\n"
     ]
    }
   ],
   "source": [
    "#E26270\n",
    "\n",
    "plt.figure(num = 'e26270 dist', figsize = (9, 8))\n",
    "\n",
    "plt.subplot(211)\n",
    "x0 = cps['agi_bin']\n",
    "y0 = cps['e26270']\n",
    "plt.ylabel('e26270', color = '#0872AE')\n",
    "plt.xticks(range(19))\n",
    "plt.title('CPS Imputation', size = 14)\n",
    "plt.scatter(x0, y0, s = 10)\n",
    "\n",
    "plt.subplot(212)\n",
    "x1 = puf2011['AGIR1']\n",
    "y1 = puf2011['E26270']\n",
    "plt.xlabel('AGI Bins',fontsize = 12, color = '#0872AE', position = (0.505,0))\n",
    "plt.ylabel('E26270', color = '#0872AE')\n",
    "plt.title('PUF2011', size = 14)\n",
    "plt.scatter(x1, y1, label = 'PUF2011', s = 10)\n",
    "\n",
    "plt.show()\n",
    "\n",
    "print('The CPS Imputation graph does not make sense to me because the predited e26270 is NOT mostly negative, in fact the mean is ' + str(cps['e26270'].mean()))"
   ]
  },
  {
   "cell_type": "code",
   "execution_count": 35,
   "metadata": {},
   "outputs": [
    {
     "data": {
      "image/png": "[encoded data removed]",
      "text/plain": [
       "<matplotlib.figure.Figure at 0x1c30267320>"
      ]
     },
     "metadata": {},
     "output_type": "display_data"
    }
   ],
   "source": [
    "#P23250\n",
    "\n",
    "plt.figure(num = 'p23250 dist', figsize = (9, 8))\n",
    "\n",
    "plt.subplot(211)\n",
    "x0 = cps['agi_bin']\n",
    "y0 = cps['p23250']\n",
    "plt.ylabel('p23250', color = '#0872AE')\n",
    "plt.xticks(range(19))\n",
    "plt.title('CPS Imputation', size = 14)\n",
    "plt.scatter(x0, y0, s = 10)\n",
    "\n",
    "plt.subplot(212)\n",
    "x1 = puf2011['AGIR1']\n",
    "y1 = puf2011['P23250']\n",
    "plt.xlabel('AGI Bins',fontsize = 12, color = '#0872AE', position = (0.505,0))\n",
    "plt.ylabel('P23250', color = '#0872AE')\n",
    "plt.title('PUF2011', size = 14)\n",
    "plt.scatter(x1, y1, label = 'PUF2011', s = 10)\n",
    "\n",
    "plt.show()"
   ]
  },
  {
   "cell_type": "code",
   "execution_count": 36,
   "metadata": {},
   "outputs": [
    {
     "data": {
      "image/png": "[encoded data removed]",
      "text/plain": [
       "<matplotlib.figure.Figure at 0x1c2796b710>"
      ]
     },
     "metadata": {},
     "output_type": "display_data"
    },
    {
     "name": "stdout",
     "output_type": "stream",
     "text": [
      "The predicted values are an order of magnitude lower than the observed\n"
     ]
    }
   ],
   "source": [
    "#P22250\n",
    "\n",
    "plt.figure(num = 'p22250 dist', figsize = (9, 8))\n",
    "\n",
    "plt.subplot(211)\n",
    "plt.title('CPS Imputation', size = 14)\n",
    "x0 = cps['agi_bin']\n",
    "y0 = cps['p22250']\n",
    "plt.xticks(range(19))\n",
    "plt.ylabel('p22250', color = '#0872AE')\n",
    "plt.ticklabel_format(style='sci', axis='y', scilimits=(0,0))\n",
    "ax = plt.gca()\n",
    "ax.set_ylim([0, 1*10**7])\n",
    "plt.scatter(x0, y0, s = 10)\n",
    "\n",
    "plt.subplot(212)\n",
    "x1 = puf2011['AGIR1']\n",
    "y1 = puf2011['P22250']\n",
    "plt.xlabel('AGI Bins',fontsize = 12, color = '#0872AE', position = (0.505,0))\n",
    "plt.ylabel('P22250', color = '#0872AE')\n",
    "plt.title('PUF2011', size = 14)\n",
    "plt.scatter(x1, y1, label = 'PUF2011', s = 10)\n",
    "\n",
    "plt.show()\n",
    "\n",
    "print('The predicted values are an order of magnitude smaller than the observed')"
   ]
  },
  {
   "cell_type": "code",
   "execution_count": null,
   "metadata": {},
   "outputs": [],
   "source": []
  }
 ],
 "metadata": {
  "kernelspec": {
   "display_name": "Python 3",
   "language": "python",
   "name": "python3"
  },
  "language_info": {
   "codemirror_mode": {
    "name": "ipython",
    "version": 3
   },
   "file_extension": ".py",
   "mimetype": "text/x-python",
   "name": "python",
   "nbconvert_exporter": "python",
   "pygments_lexer": "ipython3",
   "version": "3.6.4"
  }
 },
 "nbformat": 4,
 "nbformat_minor": 2
}

{
 "cells": [
  {
   "cell_type": "code",
   "execution_count": 1,
   "metadata": {
    "collapsed": true
   },
   "outputs": [],
   "source": [
    "import numpy as np\n",
    "import pandas as pd\n",
    "from pandas import DataFrame as df\n",
    "from cylp.cy import CyClpSimplex\n",
    "from cylp.py.modeling.CyLPModel import CyLPArray, CyLPModel\n",
    "from solve_lp_for_year import solve_lp_for_year"
   ]
  },
  {
   "cell_type": "code",
   "execution_count": 78,
   "metadata": {
    "collapsed": true
   },
   "outputs": [],
   "source": [
    "puf = pd.read_csv(\"../../puf_data/cps-matched-puf.csv\")\n",
    "Stage_I_factors = df.from_csv(\"../../stage1/Stage_I_factors_transpose.csv\", index_col = 0)\n",
    "Stage_II_targets = df.from_csv(\"../../stage1/Stage_II_targets.csv\", index_col= 0)"
   ]
  },
  {
   "cell_type": "code",
   "execution_count": 79,
   "metadata": {
    "collapsed": true
   },
   "outputs": [],
   "source": [
    "length = len(puf.s006)\n",
    "z = np.empty([length, 18])\n",
    "z[:,0] = puf.s006/100"
   ]
  },
  {
   "cell_type": "code",
   "execution_count": 84,
   "metadata": {},
   "outputs": [
    {
     "name": "stdout",
     "output_type": "stream",
     "text": [
      "Preparing coefficient matrix for year 2012 .....\n",
      "Preparing targets for year 2012 .....\n",
      "Targets for year 2012 are:\n",
      "[ -5.48077691e+07  -4.79414942e+07  -8.47549901e+06  -2.04048929e+07\n",
      "  -6.19695094e+07  -4.36800084e+10  -6.81678981e+10  -1.87348661e+11\n",
      "  -2.98044370e+10  -1.09955755e+11  -4.47931272e+11  -1.25667287e+11\n",
      "  -2.68524387e+10  -3.65080781e+11  -7.40093876e+10  -7.48505144e+09\n",
      "  -7.33411634e+10  -2.02248173e+11  -2.90465688e+11  -3.06745267e+11\n",
      "  -3.13714662e+11  -7.48820804e+11  -6.84328040e+11  -1.28180677e+12\n",
      "  -4.74611112e+11   9.54561993e+09   7.30420139e+10]\n",
      "Adding constraints for year 2012 .....\n",
      "Setting up the LP model for year 2012 .....\n",
      "Solving LP for year 2012 .....\n",
      "DONE solving LP for year 2012\n"
     ]
    }
   ],
   "source": [
    "z[:,1] = solve_lp_for_year(puf, Stage_I_factors, Stage_II_targets, year = '2012', tol = 0.47)"
   ]
  },
  {
   "cell_type": "code",
   "execution_count": 88,
   "metadata": {},
   "outputs": [
    {
     "name": "stdout",
     "output_type": "stream",
     "text": [
      "Preparing coefficient matrix for year 2013 .....\n",
      "Preparing targets for year 2013 .....\n",
      "Targets for year 2013 are:\n",
      "[ -5.53233901e+07  -4.98210529e+07  -8.83119424e+06  -2.15040156e+07\n",
      "  -6.49798506e+07  -4.72254899e+10  -7.37232688e+10  -1.94777341e+11\n",
      "  -3.11138089e+10  -1.18866515e+11  -4.61102827e+11  -1.37162703e+11\n",
      "  -2.98694463e+10  -3.78244124e+11  -7.64442277e+10  -8.55971313e+09\n",
      "  -7.67474698e+10  -2.11738586e+11  -3.00448898e+11  -3.26541545e+11\n",
      "  -3.15509949e+11  -7.82416270e+11  -7.02970394e+11  -1.29962008e+12\n",
      "  -4.49883792e+11   1.34221798e+10   2.08983272e+10]\n",
      "Adding constraints for year 2013 .....\n",
      "Setting up the LP model for year 2013 .....\n",
      "Solving LP for year 2013 .....\n",
      "DONE solving LP for year 2013\n"
     ]
    }
   ],
   "source": [
    "z[:,2] = solve_lp_for_year(puf, Stage_I_factors, Stage_II_targets, year = '2013', tol = 0.48)"
   ]
  },
  {
   "cell_type": "code",
   "execution_count": 95,
   "metadata": {},
   "outputs": [
    {
     "name": "stdout",
     "output_type": "stream",
     "text": [
      "Preparing coefficient matrix for year 2014 .....\n",
      "Preparing targets for year 2014 .....\n",
      "Targets for year 2014 are:\n",
      "[ -5.46420608e+07  -5.20498380e+07  -8.68421408e+06  -2.28268095e+07\n",
      "  -6.53864737e+07  -4.91109577e+10  -7.65475832e+10  -1.92614151e+11\n",
      "  -3.10030988e+10  -1.20624689e+11  -4.78859407e+11  -1.35739266e+11\n",
      "  -2.97079874e+10  -3.91125083e+11  -7.58244473e+10  -1.01315913e+10\n",
      "  -7.95787262e+10  -2.24539529e+11  -3.12464046e+11  -3.30967400e+11\n",
      "  -3.21363741e+11  -8.12870895e+11  -7.13801259e+11  -1.26984799e+12\n",
      "  -4.03918241e+11   3.78737161e+10   6.49131306e+10]\n",
      "Adding constraints for year 2014 .....\n",
      "Setting up the LP model for year 2014 .....\n",
      "Solving LP for year 2014 .....\n",
      "DONE solving LP for year 2014\n"
     ]
    }
   ],
   "source": [
    "z[:,3] = solve_lp_for_year(puf, Stage_I_factors, Stage_II_targets, year = '2014', tol = 0.50)"
   ]
  },
  {
   "cell_type": "code",
   "execution_count": 99,
   "metadata": {},
   "outputs": [
    {
     "name": "stdout",
     "output_type": "stream",
     "text": [
      "Preparing coefficient matrix for year 2015 .....\n",
      "Preparing targets for year 2015 .....\n",
      "Targets for year 2015 are:\n",
      "[ -5.58177344e+07  -5.32863454e+07  -8.82940171e+06  -2.36117581e+07\n",
      "  -6.76272869e+07  -5.23793840e+10  -8.16393043e+10  -1.98180746e+11\n",
      "  -3.20439885e+10  -1.28208962e+11  -5.03942492e+11  -1.44731636e+11\n",
      "  -3.21157847e+10  -4.04516301e+11  -7.76766672e+10  -1.04373833e+10\n",
      "  -8.12558439e+10  -2.29247277e+11  -3.18885372e+11  -3.37792332e+11\n",
      "  -3.28003560e+11  -8.29589861e+11  -7.28639228e+11  -1.29727689e+12\n",
      "  -4.15016808e+11   3.65939576e+10   6.33589080e+10]\n",
      "Adding constraints for year 2015 .....\n",
      "Setting up the LP model for year 2015 .....\n",
      "Solving LP for year 2015 .....\n",
      "DONE solving LP for year 2015\n"
     ]
    }
   ],
   "source": [
    "z[:,4] = solve_lp_for_year(puf, Stage_I_factors, Stage_II_targets, year = '2015', tol = 0.50)"
   ]
  },
  {
   "cell_type": "code",
   "execution_count": 105,
   "metadata": {},
   "outputs": [
    {
     "name": "stdout",
     "output_type": "stream",
     "text": [
      "Preparing coefficient matrix for year 2016 .....\n",
      "Preparing targets for year 2016 .....\n",
      "Targets for year 2016 are:\n",
      "[ -5.70959526e+07  -5.46034626e+07  -8.99666085e+06  -2.43948674e+07\n",
      "  -7.02636835e+07  -5.58342831e+10  -8.70659667e+10  -2.05113112e+11\n",
      "  -3.32857469e+10  -1.36721380e+11  -5.29863100e+11  -1.55450178e+11\n",
      "  -3.49331803e+10  -4.17962557e+11  -8.00020962e+10  -1.08115740e+10\n",
      "  -8.33953683e+10  -2.35244999e+11  -3.27174631e+11  -3.46639339e+11\n",
      "  -3.36643022e+11  -8.50925866e+11  -7.47621854e+11  -1.33276637e+12\n",
      "  -4.29585127e+11   3.47120732e+10   6.10713975e+10]\n",
      "Adding constraints for year 2016 .....\n",
      "Setting up the LP model for year 2016 .....\n",
      "Solving LP for year 2016 .....\n",
      "DONE solving LP for year 2016\n"
     ]
    }
   ],
   "source": [
    "z[:,5] = solve_lp_for_year(puf, Stage_I_factors, Stage_II_targets, year = '2016', tol = 0.51)"
   ]
  },
  {
   "cell_type": "code",
   "execution_count": 109,
   "metadata": {},
   "outputs": [
    {
     "name": "stdout",
     "output_type": "stream",
     "text": [
      "Preparing coefficient matrix for year 2017 .....\n",
      "Preparing targets for year 2017 .....\n",
      "Targets for year 2017 are:\n",
      "[ -5.84562866e+07  -5.59941013e+07  -9.17890251e+06  -2.52010138e+07\n",
      "  -7.31389723e+07  -5.95362324e+10  -9.28807893e+10  -2.13004803e+11\n",
      "  -3.46699428e+10  -1.46063015e+11  -5.57176293e+11  -1.67525341e+11\n",
      "  -3.81022579e+10  -4.31773951e+11  -8.26097460e+10  -1.12331354e+10\n",
      "  -8.58272781e+10  -2.42057963e+11  -3.36633920e+11  -3.56751988e+11\n",
      "  -3.46532995e+11  -8.75166339e+11  -7.69215034e+11  -1.37334905e+12\n",
      "  -4.46416325e+11   3.23897317e+10   5.82337328e+10]\n",
      "Adding constraints for year 2017 .....\n",
      "Setting up the LP model for year 2017 .....\n",
      "Solving LP for year 2017 .....\n",
      "DONE solving LP for year 2017\n"
     ]
    }
   ],
   "source": [
    "z[:,6] = solve_lp_for_year(puf, Stage_I_factors, Stage_II_targets, year = '2017', tol = 0.51)"
   ]
  },
  {
   "cell_type": "code",
   "execution_count": 113,
   "metadata": {},
   "outputs": [
    {
     "name": "stdout",
     "output_type": "stream",
     "text": [
      "Preparing coefficient matrix for year 2018 .....\n",
      "Preparing targets for year 2018 .....\n",
      "Targets for year 2018 are:\n",
      "[ -5.98055858e+07  -5.73914814e+07  -9.35281749e+06  -2.60470536e+07\n",
      "  -7.57884193e+07  -6.32874724e+10  -9.87395874e+10  -2.20315550e+11\n",
      "  -3.59803193e+10  -1.55208203e+11  -5.85247816e+11  -1.78991412e+11\n",
      "  -4.11447400e+10  -4.46262522e+11  -8.50100529e+10  -1.16290744e+10\n",
      "  -8.80640547e+10  -2.48327808e+11  -3.45287308e+11  -3.65986404e+11\n",
      "  -3.55549383e+11  -8.97454905e+11  -7.89048852e+11  -1.41044837e+12\n",
      "  -4.61727210e+11   3.03528308e+10   5.57417304e+10]\n",
      "Adding constraints for year 2018 .....\n",
      "Setting up the LP model for year 2018 .....\n",
      "Solving LP for year 2018 .....\n",
      "DONE solving LP for year 2018\n"
     ]
    }
   ],
   "source": [
    "z[:,7] = solve_lp_for_year(puf, Stage_I_factors, Stage_II_targets, year = '2018', tol = 0.51)"
   ]
  },
  {
   "cell_type": "code",
   "execution_count": 118,
   "metadata": {},
   "outputs": [
    {
     "name": "stdout",
     "output_type": "stream",
     "text": [
      "Preparing coefficient matrix for year 2019 .....\n",
      "Preparing targets for year 2019 .....\n",
      "Targets for year 2019 are:\n",
      "[ -6.11298793e+07  -5.87846495e+07  -9.51587574e+06  -2.69316305e+07\n",
      "  -7.81295544e+07  -6.70404460e+10  -1.04612751e+11  -2.26833246e+11\n",
      "  -3.71927540e+10  -1.64027322e+11  -6.13891227e+11  -1.89560915e+11\n",
      "  -4.39759976e+10  -4.61413529e+11  -8.71838715e+10  -1.19858349e+10\n",
      "  -9.00161514e+10  -2.53804884e+11  -3.52773185e+11  -3.73950799e+11\n",
      "  -3.63304489e+11  -9.16899246e+11  -8.06321260e+11  -1.44249731e+12\n",
      "  -4.74831829e+11   2.87287461e+10   5.37522578e+10]\n",
      "Adding constraints for year 2019 .....\n",
      "Setting up the LP model for year 2019 .....\n",
      "Solving LP for year 2019 .....\n",
      "DONE solving LP for year 2019\n"
     ]
    }
   ],
   "source": [
    "z[:,8] = solve_lp_for_year(puf, Stage_I_factors, Stage_II_targets, year = '2019', tol = 0.52)"
   ]
  },
  {
   "cell_type": "code",
   "execution_count": 124,
   "metadata": {},
   "outputs": [
    {
     "name": "stdout",
     "output_type": "stream",
     "text": [
      "Preparing coefficient matrix for year 2020 .....\n",
      "Preparing targets for year 2020 .....\n",
      "Targets for year 2020 are:\n",
      "[ -6.24424290e+07  -6.01864573e+07  -9.66987081e+06  -2.78595541e+07\n",
      "  -8.02933578e+07  -7.08660408e+10  -1.10566380e+11  -2.32685750e+11\n",
      "  -3.83187721e+10  -1.72653282e+11  -6.43444985e+11  -1.99463108e+11\n",
      "  -4.66369708e+10  -4.77357572e+11  -8.91118705e+10  -1.23111403e+10\n",
      "  -9.17305050e+10  -2.58620190e+11  -3.59278265e+11  -3.80846667e+11\n",
      "  -3.69996989e+11  -9.33965910e+11  -8.21450830e+11  -1.47030638e+12\n",
      "  -4.86085658e+11   2.74519872e+10   5.21837392e+10]\n",
      "Adding constraints for year 2020 .....\n",
      "Setting up the LP model for year 2020 .....\n",
      "Solving LP for year 2020 .....\n",
      "DONE solving LP for year 2020\n"
     ]
    }
   ],
   "source": [
    "z[:,9] = solve_lp_for_year(puf, Stage_I_factors, Stage_II_targets, year = '2020', tol = 0.52)"
   ]
  },
  {
   "cell_type": "code",
   "execution_count": 131,
   "metadata": {},
   "outputs": [
    {
     "name": "stdout",
     "output_type": "stream",
     "text": [
      "Preparing coefficient matrix for year 2021 .....\n",
      "Preparing targets for year 2021 .....\n",
      "Targets for year 2021 are:\n",
      "[ -6.37482802e+07  -6.15773140e+07  -9.82451971e+06  -2.87756051e+07\n",
      "  -8.24001484e+07  -7.46453677e+10  -1.16461988e+11  -2.38653521e+11\n",
      "  -3.94584987e+10  -1.81250721e+11  -6.72641756e+11  -2.09385190e+11\n",
      "  -4.93362054e+10  -4.92997748e+11  -9.10883417e+10  -1.26399753e+10\n",
      "  -9.34756036e+10  -2.63520717e+11  -3.65913974e+11  -3.87886283e+11\n",
      "  -3.76833664e+11  -9.51339850e+11  -8.36859456e+11  -1.49868498e+12\n",
      "  -4.97598807e+11   2.61175361e+10   5.05446922e+10]\n",
      "Adding constraints for year 2021 .....\n",
      "Setting up the LP model for year 2021 .....\n",
      "Solving LP for year 2021 .....\n",
      "DONE solving LP for year 2021\n"
     ]
    }
   ],
   "source": [
    "z[:,10] = solve_lp_for_year(puf, Stage_I_factors, Stage_II_targets, year = '2021', tol = 0.52)"
   ]
  },
  {
   "cell_type": "code",
   "execution_count": 135,
   "metadata": {},
   "outputs": [
    {
     "name": "stdout",
     "output_type": "stream",
     "text": [
      "Preparing coefficient matrix for year 2022 .....\n",
      "Preparing targets for year 2022 .....\n",
      "Targets for year 2022 are:\n",
      "[ -6.50763043e+07  -6.30002483e+07  -9.97901205e+06  -2.97261908e+07\n",
      "  -8.43189853e+07  -7.85465386e+10  -1.22523124e+11  -2.44463334e+11\n",
      "  -4.05888009e+10  -1.89980793e+11  -7.02910918e+11  -2.19348453e+11\n",
      "  -5.20231877e+10  -5.09323613e+11  -9.30392610e+10  -1.29647457e+10\n",
      "  -9.51666859e+10  -2.68271298e+11  -3.72314433e+11  -3.94666641e+11\n",
      "  -3.83409838e+11  -9.68166187e+11  -8.51772537e+11  -1.52606111e+12\n",
      "  -5.08692089e+11   2.48534741e+10   4.89847099e+10]\n",
      "Adding constraints for year 2022 .....\n",
      "Setting up the LP model for year 2022 .....\n",
      "Solving LP for year 2022 .....\n",
      "DONE solving LP for year 2022\n"
     ]
    }
   ],
   "source": [
    "z[:,11] = solve_lp_for_year(puf, Stage_I_factors, Stage_II_targets, year = '2022', tol = 0.53)"
   ]
  },
  {
   "cell_type": "code",
   "execution_count": 140,
   "metadata": {},
   "outputs": [
    {
     "name": "stdout",
     "output_type": "stream",
     "text": [
      "Preparing coefficient matrix for year 2023 .....\n",
      "Preparing targets for year 2023 .....\n",
      "Targets for year 2023 are:\n",
      "[ -6.63949134e+07  -6.44117000e+07  -1.01326381e+07  -3.06683586e+07\n",
      "  -8.62687808e+07  -8.24093343e+10  -1.28542828e+11  -2.50310079e+11\n",
      "  -4.17159393e+10  -1.98654161e+11  -7.32837008e+11  -2.29261540e+11\n",
      "  -5.47175171e+10  -5.25464841e+11  -9.49667100e+10  -1.32896355e+10\n",
      "  -9.68663286e+10  -2.73045582e+11  -3.78754229e+11  -4.01490797e+11\n",
      "  -3.90030423e+11  -9.85080617e+11  -8.66765615e+11  -1.55360227e+12\n",
      "  -5.19851098e+11   2.35802089e+10   4.74156863e+10]\n",
      "Adding constraints for year 2023 .....\n",
      "Setting up the LP model for year 2023 .....\n",
      "Solving LP for year 2023 .....\n",
      "DONE solving LP for year 2023\n"
     ]
    }
   ],
   "source": [
    "z[:,12] = solve_lp_for_year(puf, Stage_I_factors, Stage_II_targets, year = '2023', tol = 0.53)"
   ]
  },
  {
   "cell_type": "code",
   "execution_count": 149,
   "metadata": {},
   "outputs": [
    {
     "name": "stdout",
     "output_type": "stream",
     "text": [
      "Preparing coefficient matrix for year 2024 .....\n",
      "Preparing targets for year 2024 .....\n",
      "Targets for year 2024 are:\n",
      "[ -6.76901299e+07  -6.57949895e+07  -1.02843765e+07  -3.15830625e+07\n",
      "  -8.82633523e+07  -8.61891839e+10  -1.34430948e+11  -2.56160895e+11\n",
      "  -4.28398807e+10  -2.07210962e+11  -7.62041122e+11  -2.39133598e+11\n",
      "  -5.73858387e+10  -5.41167107e+11  -9.69141899e+10  -1.36129629e+10\n",
      "  -9.85720432e+10  -2.77836230e+11  -3.85229857e+11  -4.08356975e+11\n",
      "  -3.96695437e+11  -1.00206028e+12  -8.81820414e+11  -1.58129290e+12\n",
      "  -5.31072428e+11   2.22935775e+10   4.58339439e+10]\n",
      "Adding constraints for year 2024 .....\n",
      "Setting up the LP model for year 2024 .....\n",
      "Solving LP for year 2024 .....\n",
      "DONE solving LP for year 2024\n"
     ]
    }
   ],
   "source": [
    "z[:,13] = solve_lp_for_year(puf, Stage_I_factors, Stage_II_targets, year = '2024', tol = 0.54)"
   ]
  },
  {
   "cell_type": "code",
   "execution_count": 155,
   "metadata": {},
   "outputs": [
    {
     "name": "stdout",
     "output_type": "stream",
     "text": [
      "Preparing coefficient matrix for year 2025 .....\n",
      "Preparing targets for year 2025 .....\n",
      "Targets for year 2025 are:\n",
      "[ -6.90313966e+07  -6.72291395e+07  -1.04413144e+07  -3.25367174e+07\n",
      "  -9.02924969e+07  -9.01706230e+10  -1.40620572e+11  -2.62293750e+11\n",
      "  -4.40168364e+10  -2.16226793e+11  -7.92646662e+11  -2.49553398e+11\n",
      "  -6.01903110e+10  -5.57488211e+11  -9.89366062e+10  -1.39523002e+10\n",
      "  -1.00349023e+11  -2.82825643e+11  -3.91975721e+11  -4.15512770e+11\n",
      "  -4.03644014e+11  -1.01973439e+12  -8.97499726e+11  -1.61019505e+12\n",
      "  -5.42883661e+11   2.08606673e+10   4.40587268e+10]\n",
      "Adding constraints for year 2025 .....\n",
      "Setting up the LP model for year 2025 .....\n",
      "Solving LP for year 2025 .....\n",
      "DONE solving LP for year 2025\n"
     ]
    }
   ],
   "source": [
    "z[:,14] = solve_lp_for_year(puf, Stage_I_factors, Stage_II_targets, year = '2025', tol = 0.55)"
   ]
  },
  {
   "cell_type": "code",
   "execution_count": 161,
   "metadata": {},
   "outputs": [
    {
     "name": "stdout",
     "output_type": "stream",
     "text": [
      "Preparing coefficient matrix for year 2026 .....\n",
      "Preparing targets for year 2026 .....\n",
      "Targets for year 2026 are:\n",
      "[ -7.03334024e+07  -6.86121258e+07  -1.05973520e+07  -3.34391553e+07\n",
      "  -9.23555754e+07  -9.39481862e+10  -1.46512146e+11  -2.68357117e+11\n",
      "  -4.51647271e+10  -2.24885428e+11  -8.21688304e+11  -2.59667523e+11\n",
      "  -6.29278297e+10  -5.72975432e+11  -1.00938432e+11  -1.42867838e+10\n",
      "  -1.02130518e+11  -2.87826655e+11  -3.98763526e+11  -4.22720272e+11\n",
      "  -4.10649388e+11  -1.03746546e+12  -9.13235444e+11  -1.63925908e+12\n",
      "  -5.54745834e+11   1.94242178e+10   4.22888364e+10]\n",
      "Adding constraints for year 2026 .....\n",
      "Setting up the LP model for year 2026 .....\n",
      "Solving LP for year 2026 .....\n",
      "DONE solving LP for year 2026\n"
     ]
    }
   ],
   "source": [
    "z[:,15] = solve_lp_for_year(puf, Stage_I_factors, Stage_II_targets, year = '2026', tol = 0.56)"
   ]
  },
  {
   "cell_type": "code",
   "execution_count": 166,
   "metadata": {},
   "outputs": [
    {
     "name": "stdout",
     "output_type": "stream",
     "text": [
      "Preparing coefficient matrix for year 2027 .....\n",
      "Preparing targets for year 2027 .....\n",
      "Targets for year 2027 are:\n",
      "[ -7.15678923e+07  -6.99183973e+07  -1.07461086e+07  -3.42830230e+07\n",
      "  -9.44461968e+07  -9.74892774e+10  -1.52036518e+11  -2.74271246e+11\n",
      "  -4.62770367e+10  -2.33095669e+11  -8.48838572e+11  -2.69386922e+11\n",
      "  -6.55373722e+10  -5.87403235e+11  -1.02895390e+11  -1.46121794e+10\n",
      "  -1.03891342e+11  -2.92768658e+11  -4.05495181e+11  -4.29874712e+11\n",
      "  -4.17609167e+11  -1.05500175e+12  -9.28803684e+11  -1.66806658e+12\n",
      "  -5.66489614e+11   1.80044047e+10   4.05482794e+10]\n",
      "Adding constraints for year 2027 .....\n",
      "Setting up the LP model for year 2027 .....\n",
      "Solving LP for year 2027 .....\n",
      "DONE solving LP for year 2027\n"
     ]
    }
   ],
   "source": [
    "z[:,17] = solve_lp_for_year(puf, Stage_I_factors, Stage_II_targets, year = '2027', tol = 0.56)"
   ]
  },
  {
   "cell_type": "code",
   "execution_count": 23,
   "metadata": {
    "collapsed": true
   },
   "outputs": [],
   "source": [
    "z = df(z, columns=['WT2011','WT2012','WT2013','WT2014',\n",
    "                   'WT2015','WT2016','WT2017','WT2018','WT2019','WT2020','WT2021',\n",
    "                   'WT2022','WT2023','WT2024', 'WT2025', 'WT2026', 'WT2027'])\n",
    "z = z.round(0).astype('int64')\n",
    "z.to_csv('puf_weights.csv', index = False)"
   ]
  },
  {
   "cell_type": "code",
   "execution_count": null,
   "metadata": {
    "collapsed": true
   },
   "outputs": [],
   "source": []
  }
 ],
 "metadata": {
  "anaconda-cloud": {},
  "kernelspec": {
   "display_name": "Python [conda env:taxdata-dev]",
   "language": "python",
   "name": "conda-env-taxdata-dev-py"
  },
  "language_info": {
   "codemirror_mode": {
    "name": "ipython",
    "version": 2
   },
   "file_extension": ".py",
   "mimetype": "text/x-python",
   "name": "python",
   "nbconvert_exporter": "python",
   "pygments_lexer": "ipython2",
   "version": "2.7.13"
  }
 },
 "nbformat": 4,
 "nbformat_minor": 1
}

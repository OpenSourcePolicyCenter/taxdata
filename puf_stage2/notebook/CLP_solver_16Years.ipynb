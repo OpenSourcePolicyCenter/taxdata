{
 "cells": [
  {
   "cell_type": "code",
   "execution_count": 1,
   "metadata": {
    "collapsed": true
   },
   "outputs": [],
   "source": [
    "import numpy as np\n",
    "import pandas as pd\n",
    "from pandas import DataFrame as df\n",
    "from cylp.cy import CyClpSimplex\n",
    "from cylp.py.modeling.CyLPModel import CyLPArray, CyLPModel\n",
    "from solve_lp_for_year import solve_lp_for_year"
   ]
  },
  {
   "cell_type": "code",
   "execution_count": 2,
   "metadata": {
    "collapsed": true
   },
   "outputs": [],
   "source": [
    "puf = pd.read_csv(\"../../puf_data/cps-matched-puf.csv\")\n",
    "Stage_I_factors = df.from_csv(\"../../stage1/Stage_I_factors_transpose.csv\", index_col = 0)\n",
    "Stage_II_targets = df.from_csv(\"../../stage1/Stage_II_targets.csv\", index_col= 0)"
   ]
  },
  {
   "cell_type": "code",
   "execution_count": 3,
   "metadata": {
    "collapsed": true
   },
   "outputs": [],
   "source": [
    "length = len(puf.s006)\n",
    "z = np.empty([length, 18])\n",
    "z[:,0] = puf.s006/100"
   ]
  },
  {
   "cell_type": "code",
   "execution_count": 5,
   "metadata": {},
   "outputs": [
    {
     "name": "stdout",
     "output_type": "stream",
     "text": [
      "Preparing coefficient matrix for year 2012 .....\n",
      "Preparing targets for year 2012 .....\n",
      "Targets for year 2012 are:\n",
      "[ -5.48077691e+07  -4.79414942e+07  -8.47549901e+06  -2.04048929e+07\n",
      "  -6.19695094e+07  -4.36800084e+10  -6.81678981e+10  -1.87348661e+11\n",
      "  -2.98044370e+10  -1.09955755e+11  -4.47931272e+11  -1.25667287e+11\n",
      "  -2.68524387e+10  -3.65080781e+11  -7.40093876e+10  -7.48505144e+09\n",
      "  -7.33411634e+10  -2.02248173e+11  -2.90465688e+11  -3.06745267e+11\n",
      "  -3.13714662e+11  -7.48820804e+11  -6.84328040e+11  -1.28180677e+12\n",
      "  -4.74611112e+11   9.54561993e+09   7.30420139e+10]\n",
      "Adding constraints for year 2012 .....\n",
      "Setting up the LP model for year 2012 .....\n",
      "Solving LP for year 2012 .....\n",
      "DONE solving LP for year 2012\n"
     ]
    }
   ],
   "source": [
    "z[:,1] = solve_lp_for_year(puf, Stage_I_factors, Stage_II_targets, year = '2012', tol = 0.47)"
   ]
  },
  {
   "cell_type": "code",
   "execution_count": 7,
   "metadata": {},
   "outputs": [
    {
     "name": "stdout",
     "output_type": "stream",
     "text": [
      "Preparing coefficient matrix for year 2013 .....\n",
      "Preparing targets for year 2013 .....\n",
      "Targets for year 2013 are:\n",
      "[ -5.53233901e+07  -4.98210529e+07  -8.83119424e+06  -2.15040156e+07\n",
      "  -6.49798506e+07  -4.72254899e+10  -7.37232688e+10  -1.94777341e+11\n",
      "  -3.11138089e+10  -1.18866515e+11  -4.61102827e+11  -1.37162703e+11\n",
      "  -2.98694463e+10  -3.78244124e+11  -7.64442277e+10  -8.55971313e+09\n",
      "  -7.67474698e+10  -2.11738586e+11  -3.00448898e+11  -3.26541545e+11\n",
      "  -3.15509949e+11  -7.82416270e+11  -7.02970394e+11  -1.29962008e+12\n",
      "  -4.49883792e+11   1.34221798e+10   2.08983272e+10]\n",
      "Adding constraints for year 2013 .....\n",
      "Setting up the LP model for year 2013 .....\n",
      "Solving LP for year 2013 .....\n",
      "DONE solving LP for year 2013\n"
     ]
    }
   ],
   "source": [
    "z[:,2] = solve_lp_for_year(puf, Stage_I_factors, Stage_II_targets, year = '2013', tol = 0.48)"
   ]
  },
  {
   "cell_type": "code",
   "execution_count": 9,
   "metadata": {},
   "outputs": [
    {
     "name": "stdout",
     "output_type": "stream",
     "text": [
      "Preparing coefficient matrix for year 2014 .....\n",
      "Preparing targets for year 2014 .....\n",
      "Targets for year 2014 are:\n",
      "[ -5.46420608e+07  -5.20498380e+07  -8.68421408e+06  -2.28268095e+07\n",
      "  -6.53864737e+07  -4.91109577e+10  -7.65475832e+10  -1.92614151e+11\n",
      "  -3.10030988e+10  -1.20624689e+11  -4.78859407e+11  -1.35739266e+11\n",
      "  -2.97079874e+10  -3.91125083e+11  -7.58244473e+10  -1.01315913e+10\n",
      "  -7.95787262e+10  -2.24539529e+11  -3.12464046e+11  -3.30967400e+11\n",
      "  -3.21363741e+11  -8.12870895e+11  -7.13801259e+11  -1.26984799e+12\n",
      "  -4.03918241e+11   3.78737161e+10   6.49131306e+10]\n",
      "Adding constraints for year 2014 .....\n",
      "Setting up the LP model for year 2014 .....\n",
      "Solving LP for year 2014 .....\n",
      "DONE solving LP for year 2014\n"
     ]
    }
   ],
   "source": [
    "z[:,3] = solve_lp_for_year(puf, Stage_I_factors, Stage_II_targets, year = '2014', tol = 0.50)"
   ]
  },
  {
   "cell_type": "code",
   "execution_count": 11,
   "metadata": {},
   "outputs": [
    {
     "name": "stdout",
     "output_type": "stream",
     "text": [
      "Preparing coefficient matrix for year 2015 .....\n",
      "Preparing targets for year 2015 .....\n",
      "Targets for year 2015 are:\n",
      "[ -5.58177344e+07  -5.32863454e+07  -8.82940171e+06  -2.36117581e+07\n",
      "  -6.76272869e+07  -5.23793840e+10  -8.16393043e+10  -1.98180746e+11\n",
      "  -3.20439885e+10  -1.28208962e+11  -5.03942492e+11  -1.44731636e+11\n",
      "  -3.21157847e+10  -4.04516301e+11  -7.76766672e+10  -1.04373833e+10\n",
      "  -8.12558439e+10  -2.29247277e+11  -3.18885372e+11  -3.37792332e+11\n",
      "  -3.28003560e+11  -8.29589861e+11  -7.28639228e+11  -1.29727689e+12\n",
      "  -4.15016808e+11   3.65939576e+10   6.33589080e+10]\n",
      "Adding constraints for year 2015 .....\n",
      "Setting up the LP model for year 2015 .....\n",
      "Solving LP for year 2015 .....\n",
      "DONE solving LP for year 2015\n"
     ]
    }
   ],
   "source": [
    "z[:,4] = solve_lp_for_year(puf, Stage_I_factors, Stage_II_targets, year = '2015', tol = 0.50)"
   ]
  },
  {
   "cell_type": "code",
   "execution_count": 13,
   "metadata": {},
   "outputs": [
    {
     "name": "stdout",
     "output_type": "stream",
     "text": [
      "Preparing coefficient matrix for year 2016 .....\n",
      "Preparing targets for year 2016 .....\n",
      "Targets for year 2016 are:\n",
      "[ -5.70959526e+07  -5.46034626e+07  -8.99666085e+06  -2.43948674e+07\n",
      "  -7.02636835e+07  -5.58462800e+10  -8.70621325e+10  -2.05114466e+11\n",
      "  -3.32815607e+10  -1.36707867e+11  -5.29852457e+11  -1.55446736e+11\n",
      "  -3.49237148e+10  -4.17962557e+11  -8.00020962e+10  -1.08111095e+10\n",
      "  -8.33930984e+10  -2.35238732e+11  -3.27165512e+11  -3.46629327e+11\n",
      "  -3.36633015e+11  -8.50903941e+11  -7.47601747e+11  -1.33272429e+12\n",
      "  -4.29562277e+11   3.47194972e+10   6.10811627e+10]\n",
      "Adding constraints for year 2016 .....\n",
      "Setting up the LP model for year 2016 .....\n",
      "Solving LP for year 2016 .....\n",
      "DONE solving LP for year 2016\n"
     ]
    }
   ],
   "source": [
    "z[:,5] = solve_lp_for_year(puf, Stage_I_factors, Stage_II_targets, year = '2016', tol = 0.51)"
   ]
  },
  {
   "cell_type": "code",
   "execution_count": 15,
   "metadata": {},
   "outputs": [
    {
     "name": "stdout",
     "output_type": "stream",
     "text": [
      "Preparing coefficient matrix for year 2017 .....\n",
      "Preparing targets for year 2017 .....\n",
      "Targets for year 2017 are:\n",
      "[ -5.84562866e+07  -5.59941013e+07  -9.17890251e+06  -2.52010138e+07\n",
      "  -7.31389723e+07  -5.95360475e+10  -9.28796398e+10  -2.13003964e+11\n",
      "  -3.46700656e+10  -1.46069862e+11  -5.57189593e+11  -1.67524941e+11\n",
      "  -3.81056575e+10  -4.31773951e+11  -8.26097460e+10  -1.12333959e+10\n",
      "  -8.58285511e+10  -2.42061478e+11  -3.36639034e+11  -3.56757602e+11\n",
      "  -3.46538607e+11  -8.75178634e+11  -7.69226309e+11  -1.37337265e+12\n",
      "  -4.46429139e+11   3.23855684e+10   5.82282566e+10]\n",
      "Adding constraints for year 2017 .....\n",
      "Setting up the LP model for year 2017 .....\n",
      "Solving LP for year 2017 .....\n",
      "DONE solving LP for year 2017\n"
     ]
    }
   ],
   "source": [
    "z[:,6] = solve_lp_for_year(puf, Stage_I_factors, Stage_II_targets, year = '2017', tol = 0.51)"
   ]
  },
  {
   "cell_type": "code",
   "execution_count": 17,
   "metadata": {},
   "outputs": [
    {
     "name": "stdout",
     "output_type": "stream",
     "text": [
      "Preparing coefficient matrix for year 2018 .....\n",
      "Preparing targets for year 2018 .....\n",
      "Targets for year 2018 are:\n",
      "[ -5.98055858e+07  -5.73914814e+07  -9.35281749e+06  -2.60470536e+07\n",
      "  -7.57884193e+07  -6.32886136e+10  -9.87487613e+10  -2.20305191e+11\n",
      "  -3.59782300e+10  -1.55217600e+11  -5.85260807e+11  -1.78995329e+11\n",
      "  -4.11355152e+10  -4.46262522e+11  -8.50042067e+10  -1.16286752e+10\n",
      "  -8.80621044e+10  -2.48322424e+11  -3.45279472e+11  -3.65977802e+11\n",
      "  -3.55540785e+11  -8.97436068e+11  -7.89031577e+11  -1.41041222e+12\n",
      "  -4.61707578e+11   3.03592093e+10   5.57501204e+10]\n",
      "Adding constraints for year 2018 .....\n",
      "Setting up the LP model for year 2018 .....\n",
      "Solving LP for year 2018 .....\n",
      "DONE solving LP for year 2018\n"
     ]
    }
   ],
   "source": [
    "z[:,7] = solve_lp_for_year(puf, Stage_I_factors, Stage_II_targets, year = '2018', tol = 0.51)"
   ]
  },
  {
   "cell_type": "code",
   "execution_count": 19,
   "metadata": {},
   "outputs": [
    {
     "name": "stdout",
     "output_type": "stream",
     "text": [
      "Preparing coefficient matrix for year 2019 .....\n",
      "Preparing targets for year 2019 .....\n",
      "Targets for year 2019 are:\n",
      "[ -6.11298793e+07  -5.87846495e+07  -9.51587574e+06  -2.69316305e+07\n",
      "  -7.81295544e+07  -6.70454065e+10  -1.04616193e+11  -2.26841353e+11\n",
      "  -3.71921868e+10  -1.64039903e+11  -6.13902329e+11  -1.89539881e+11\n",
      "  -4.39716298e+10  -4.61413529e+11  -8.71859435e+10  -1.19860581e+10\n",
      "  -9.00172422e+10  -2.53807895e+11  -3.52777567e+11  -3.73955610e+11\n",
      "  -3.63309298e+11  -9.16909781e+11  -8.06330922e+11  -1.44251753e+12\n",
      "  -4.74842809e+11   2.87251788e+10   5.37475654e+10]\n",
      "Adding constraints for year 2019 .....\n",
      "Setting up the LP model for year 2019 .....\n",
      "Solving LP for year 2019 .....\n",
      "DONE solving LP for year 2019\n"
     ]
    }
   ],
   "source": [
    "z[:,8] = solve_lp_for_year(puf, Stage_I_factors, Stage_II_targets, year = '2019', tol = 0.52)"
   ]
  },
  {
   "cell_type": "code",
   "execution_count": 21,
   "metadata": {},
   "outputs": [
    {
     "name": "stdout",
     "output_type": "stream",
     "text": [
      "Preparing coefficient matrix for year 2020 .....\n",
      "Preparing targets for year 2020 .....\n",
      "Targets for year 2020 are:\n",
      "[ -6.24424290e+07  -6.01864573e+07  -9.66987081e+06  -2.78595541e+07\n",
      "  -8.02933578e+07  -7.08611471e+10  -1.10558181e+11  -2.32692790e+11\n",
      "  -3.83197327e+10  -1.72649778e+11  -6.43440787e+11  -1.99423108e+11\n",
      "  -4.66406140e+10  -4.77357572e+11  -8.91055230e+10  -1.23107909e+10\n",
      "  -9.17287976e+10  -2.58615476e+11  -3.59271405e+11  -3.80839137e+11\n",
      "  -3.69989462e+11  -9.33949419e+11  -8.21435707e+11  -1.47027473e+12\n",
      "  -4.86068471e+11   2.74575712e+10   5.21910842e+10]\n",
      "Adding constraints for year 2020 .....\n",
      "Setting up the LP model for year 2020 .....\n",
      "Solving LP for year 2020 .....\n",
      "DONE solving LP for year 2020\n"
     ]
    }
   ],
   "source": [
    "z[:,9] = solve_lp_for_year(puf, Stage_I_factors, Stage_II_targets, year = '2020', tol = 0.52)"
   ]
  },
  {
   "cell_type": "code",
   "execution_count": 23,
   "metadata": {},
   "outputs": [
    {
     "name": "stdout",
     "output_type": "stream",
     "text": [
      "Preparing coefficient matrix for year 2021 .....\n",
      "Preparing targets for year 2021 .....\n",
      "Targets for year 2021 are:\n",
      "[ -6.37482802e+07  -6.15773140e+07  -9.82451971e+06  -2.87756051e+07\n",
      "  -8.24001484e+07  -7.46512546e+10  -1.16456221e+11  -2.38656089e+11\n",
      "  -3.94585125e+10  -1.81242355e+11  -6.72681670e+11  -2.09384989e+11\n",
      "  -4.93292839e+10  -4.92997748e+11  -9.11076764e+10  -1.26407278e+10\n",
      "  -9.34792803e+10  -2.63530868e+11  -3.65928745e+11  -3.87902500e+11\n",
      "  -3.76849873e+11  -9.51375363e+11  -8.36892023e+11  -1.49875314e+12\n",
      "  -4.97635819e+11   2.61055113e+10   5.05288752e+10]\n",
      "Adding constraints for year 2021 .....\n",
      "Setting up the LP model for year 2021 .....\n",
      "Solving LP for year 2021 .....\n",
      "DONE solving LP for year 2021\n"
     ]
    }
   ],
   "source": [
    "z[:,10] = solve_lp_for_year(puf, Stage_I_factors, Stage_II_targets, year = '2021', tol = 0.52)"
   ]
  },
  {
   "cell_type": "code",
   "execution_count": 25,
   "metadata": {},
   "outputs": [
    {
     "name": "stdout",
     "output_type": "stream",
     "text": [
      "Preparing coefficient matrix for year 2022 .....\n",
      "Preparing targets for year 2022 .....\n",
      "Targets for year 2022 are:\n",
      "[ -6.50763043e+07  -6.30002483e+07  -9.97901205e+06  -2.97261908e+07\n",
      "  -8.43189853e+07  -7.85479687e+10  -1.22527781e+11  -2.44483007e+11\n",
      "  -4.05885871e+10  -1.89984584e+11  -7.02898829e+11  -2.19335565e+11\n",
      "  -5.20343010e+10  -5.09323613e+11  -9.30358651e+10  -1.29639405e+10\n",
      "  -9.51627515e+10  -2.68260436e+11  -3.72298626e+11  -3.94649287e+11\n",
      "  -3.83392492e+11  -9.68128185e+11  -8.51737688e+11  -1.52598817e+12\n",
      "  -5.08652484e+11   2.48663418e+10   4.90016355e+10]\n",
      "Adding constraints for year 2022 .....\n",
      "Setting up the LP model for year 2022 .....\n",
      "Solving LP for year 2022 .....\n",
      "DONE solving LP for year 2022\n"
     ]
    }
   ],
   "source": [
    "z[:,11] = solve_lp_for_year(puf, Stage_I_factors, Stage_II_targets, year = '2022', tol = 0.53)"
   ]
  },
  {
   "cell_type": "code",
   "execution_count": 27,
   "metadata": {},
   "outputs": [
    {
     "name": "stdout",
     "output_type": "stream",
     "text": [
      "Preparing coefficient matrix for year 2023 .....\n",
      "Preparing targets for year 2023 .....\n",
      "Targets for year 2023 are:\n",
      "[ -6.63949134e+07  -6.44117000e+07  -1.01326381e+07  -3.06683586e+07\n",
      "  -8.62687808e+07  -8.24100221e+10  -1.28537343e+11  -2.50321458e+11\n",
      "  -4.17153734e+10  -1.98659999e+11  -7.32816959e+11  -2.29289762e+11\n",
      "  -5.47223066e+10  -5.25464841e+11  -9.49700404e+10  -1.32892697e+10\n",
      "  -9.68645409e+10  -2.73040647e+11  -3.78747047e+11  -4.01482912e+11\n",
      "  -3.90022541e+11  -9.85063349e+11  -8.66749780e+11  -1.55356912e+12\n",
      "  -5.19833102e+11   2.35860558e+10   4.74233770e+10]\n",
      "Adding constraints for year 2023 .....\n",
      "Setting up the LP model for year 2023 .....\n",
      "Solving LP for year 2023 .....\n",
      "DONE solving LP for year 2023\n"
     ]
    }
   ],
   "source": [
    "z[:,12] = solve_lp_for_year(puf, Stage_I_factors, Stage_II_targets, year = '2023', tol = 0.53)"
   ]
  },
  {
   "cell_type": "code",
   "execution_count": 29,
   "metadata": {},
   "outputs": [
    {
     "name": "stdout",
     "output_type": "stream",
     "text": [
      "Preparing coefficient matrix for year 2024 .....\n",
      "Preparing targets for year 2024 .....\n",
      "Targets for year 2024 are:\n",
      "[ -6.76901299e+07  -6.57949895e+07  -1.02843765e+07  -3.15830625e+07\n",
      "  -8.82633523e+07  -8.61896993e+10  -1.34432913e+11  -2.56171069e+11\n",
      "  -4.28418401e+10  -2.07221356e+11  -7.62036508e+11  -2.39130969e+11\n",
      "  -5.73762847e+10  -5.41167107e+11  -9.69107261e+10  -1.36132660e+10\n",
      "  -9.85735239e+10  -2.77840318e+11  -3.85235806e+11  -4.08363506e+11\n",
      "  -3.96701965e+11  -1.00207458e+12  -8.81833530e+11  -1.58132035e+12\n",
      "  -5.31087334e+11   2.22887347e+10   4.58275738e+10]\n",
      "Adding constraints for year 2024 .....\n",
      "Setting up the LP model for year 2024 .....\n",
      "Solving LP for year 2024 .....\n",
      "DONE solving LP for year 2024\n"
     ]
    }
   ],
   "source": [
    "z[:,13] = solve_lp_for_year(puf, Stage_I_factors, Stage_II_targets, year = '2024', tol = 0.54)"
   ]
  },
  {
   "cell_type": "code",
   "execution_count": 31,
   "metadata": {},
   "outputs": [
    {
     "name": "stdout",
     "output_type": "stream",
     "text": [
      "Preparing coefficient matrix for year 2025 .....\n",
      "Preparing targets for year 2025 .....\n",
      "Targets for year 2025 are:\n",
      "[ -6.90313966e+07  -6.72291395e+07  -1.04413144e+07  -3.25367174e+07\n",
      "  -9.02924969e+07  -9.01643527e+10  -1.40620096e+11  -2.62281048e+11\n",
      "  -4.40161760e+10  -2.16222381e+11  -7.92673508e+11  -2.49538846e+11\n",
      "  -6.02029636e+10  -5.57488211e+11  -9.89299934e+10  -1.39522973e+10\n",
      "  -1.00349009e+11  -2.82825604e+11  -3.91975664e+11  -4.15512707e+11\n",
      "  -4.03643951e+11  -1.01973426e+12  -8.97499600e+11  -1.61019478e+12\n",
      "  -5.42883517e+11   2.08607139e+10   4.40587881e+10]\n",
      "Adding constraints for year 2025 .....\n",
      "Setting up the LP model for year 2025 .....\n",
      "Solving LP for year 2025 .....\n",
      "DONE solving LP for year 2025\n"
     ]
    }
   ],
   "source": [
    "z[:,14] = solve_lp_for_year(puf, Stage_I_factors, Stage_II_targets, year = '2025', tol = 0.55)"
   ]
  },
  {
   "cell_type": "code",
   "execution_count": 33,
   "metadata": {},
   "outputs": [
    {
     "name": "stdout",
     "output_type": "stream",
     "text": [
      "Preparing coefficient matrix for year 2026 .....\n",
      "Preparing targets for year 2026 .....\n",
      "Targets for year 2026 are:\n",
      "[ -7.03334024e+07  -6.86121258e+07  -1.05973520e+07  -3.34391553e+07\n",
      "  -9.23555754e+07  -9.39467072e+10  -1.46510345e+11  -2.68345766e+11\n",
      "  -4.51678995e+10  -2.24875097e+11  -8.21675552e+11  -2.59667035e+11\n",
      "  -6.29284880e+10  -5.72975432e+11  -1.00934136e+11  -1.42874322e+10\n",
      "  -1.02133686e+11  -2.87835403e+11  -3.98776256e+11  -4.22734247e+11\n",
      "  -4.10663357e+11  -1.03749606e+12  -9.13263510e+11  -1.63931782e+12\n",
      "  -5.54777729e+11   1.94138551e+10   4.22752056e+10]\n",
      "Adding constraints for year 2026 .....\n",
      "Setting up the LP model for year 2026 .....\n",
      "Solving LP for year 2026 .....\n",
      "DONE solving LP for year 2026\n"
     ]
    }
   ],
   "source": [
    "z[:,15] = solve_lp_for_year(puf, Stage_I_factors, Stage_II_targets, year = '2026', tol = 0.56)"
   ]
  },
  {
   "cell_type": "code",
   "execution_count": 35,
   "metadata": {},
   "outputs": [
    {
     "name": "stdout",
     "output_type": "stream",
     "text": [
      "Preparing coefficient matrix for year 2027 .....\n",
      "Preparing targets for year 2027 .....\n",
      "Targets for year 2027 are:\n",
      "[ -7.15678923e+07  -6.99183973e+07  -1.07461086e+07  -3.42830230e+07\n",
      "  -9.44461968e+07  -9.74920402e+10  -1.52037689e+11  -2.74271832e+11\n",
      "  -4.62767498e+10  -2.33086872e+11  -8.48859076e+11  -2.69379882e+11\n",
      "  -6.55283472e+10  -5.87403235e+11  -1.02903444e+11  -1.46122313e+10\n",
      "  -1.03891595e+11  -2.92769357e+11  -4.05496198e+11  -4.29875829e+11\n",
      "  -4.17610283e+11  -1.05500420e+12  -9.28805927e+11  -1.66807128e+12\n",
      "  -5.66492163e+11   1.80035767e+10   4.05471903e+10]\n",
      "Adding constraints for year 2027 .....\n",
      "Setting up the LP model for year 2027 .....\n",
      "Solving LP for year 2027 .....\n",
      "DONE solving LP for year 2027\n"
     ]
    }
   ],
   "source": [
    "z[:,17] = solve_lp_for_year(puf, Stage_I_factors, Stage_II_targets, year = '2027', tol = 0.56)"
   ]
  },
  {
   "cell_type": "code",
   "execution_count": 23,
   "metadata": {
    "collapsed": true
   },
   "outputs": [],
   "source": [
    "z = df(z, columns=['WT2011','WT2012','WT2013','WT2014',\n",
    "                   'WT2015','WT2016','WT2017','WT2018','WT2019','WT2020','WT2021',\n",
    "                   'WT2022','WT2023','WT2024', 'WT2025', 'WT2026', 'WT2027'])\n",
    "z = z.round(0).astype('int64')\n",
    "z.to_csv('puf_weights.csv', index = False)"
   ]
  },
  {
   "cell_type": "code",
   "execution_count": null,
   "metadata": {},
   "outputs": [],
   "source": []
  }
 ],
 "metadata": {
  "anaconda-cloud": {},
  "kernelspec": {
   "display_name": "Python [conda env:taxdata-dev]",
   "language": "python",
   "name": "conda-env-taxdata-dev-py"
  },
  "language_info": {
   "codemirror_mode": {
    "name": "ipython",
    "version": 2
   },
   "file_extension": ".py",
   "mimetype": "text/x-python",
   "name": "python",
   "nbconvert_exporter": "python",
   "pygments_lexer": "ipython2",
   "version": "2.7.13"
  }
 },
 "nbformat": 4,
 "nbformat_minor": 2
}
